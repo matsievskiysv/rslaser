{
 "cells": [
  {
   "cell_type": "code",
   "execution_count": 1,
   "metadata": {},
   "outputs": [],
   "source": [
    "from rslaser import cavity"
   ]
  },
  {
   "cell_type": "code",
   "execution_count": 4,
   "metadata": {},
   "outputs": [],
   "source": [
    "#create crystal\n",
    "c = cavity.Crystal(n0=1.75,n2=0.001,L_cryst=0.2)\n",
    "\n",
    "#create laser pulse\n",
    "lp = cavity.LaserPulse(length=0.1,wavelength=800e-9)\n",
    "\n",
    "#propagate laser pulse through crystal\n",
    "c.propagate(lp)\n",
    "\n",
    "#propagate laser pulse through drift\n",
    "d = cavity.Drift(length=0.5)\n",
    "d.propagate(lp)\n",
    "\n",
    "#propagate laser pulse through lens\n",
    "lens = cavity.Lens(f=0.2)\n",
    "lens.propagate(lp)\n",
    "\n",
    "#propagate laser pulse through drift\n",
    "d.propagate(lp)\n",
    "\n",
    "#propagate laser pulse through crystal\n",
    "c.propagate(lp)"
   ]
  },
  {
   "cell_type": "code",
   "execution_count": null,
   "metadata": {},
   "outputs": [],
   "source": []
  }
 ],
 "metadata": {
  "kernelspec": {
   "display_name": "Python 3",
   "language": "python",
   "name": "py3"
  },
  "language_info": {
   "codemirror_mode": {
    "name": "ipython",
    "version": 3
   },
   "file_extension": ".py",
   "mimetype": "text/x-python",
   "name": "python",
   "nbconvert_exporter": "python",
   "pygments_lexer": "ipython3",
   "version": "3.7.2"
  }
 },
 "nbformat": 4,
 "nbformat_minor": 4
}
