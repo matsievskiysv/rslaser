{
 "cells": [
  {
   "cell_type": "markdown",
   "metadata": {},
   "source": [
    "## Simulate Gain in a Ti:Sapphire Laser\n",
    "We consider the Frantz-Nodvik (F-N) rate equations, which assume the \n",
    "amplified laser pulse duration is longer than the Ti-Sapphire phase \n",
    "relaxation time, which is between $10 fs$ and $10 ps$."
   ]
  },
  {
   "cell_type": "code",
   "execution_count": 1,
   "metadata": {},
   "outputs": [
    {
     "data": {
      "text/html": [
       "<style>\n",
       "table {float:left}\n",
       "</style>\n"
      ],
      "text/plain": [
       "<IPython.core.display.HTML object>"
      ]
     },
     "metadata": {},
     "output_type": "display_data"
    }
   ],
   "source": [
    "%%html\n",
    "<style>\n",
    "table {float:left}\n",
    "</style>"
   ]
  },
  {
   "cell_type": "code",
   "execution_count": 2,
   "metadata": {},
   "outputs": [],
   "source": [
    "import numpy as np\n",
    "from scipy.constants import c"
   ]
  },
  {
   "cell_type": "markdown",
   "metadata": {},
   "source": [
    "### Set up the dynamical equations for laser amplification in a Ti-Sapphire crystal --\n",
    "***\n",
    "| Quantity      | Units           | Variable Name       | Description                                                           |\n",
    "| :-----------: | :-------------- | :------------------ | :-------------------------------------------------------------------- |\n",
    "| $\\Delta(t)$   | $cm^{-3}$       | delta_ts            | Number density of inverted states |\n",
    "| $n_{ph}(t)$   | $cm^{-3}$       | num_dens_photons_ts | Number density of infrared photons propagating through the crystal |\n",
    "| $\\gamma$      |                 | gamma_ts            | $\\gamma = 1 + \\gamma_1 / \\gamma_2$ |\n",
    "| $\\gamma_1$    |                 | gamma_ts_1          | Degeneracy of the lower energy levels |\n",
    "| $\\gamma_2$    |                 | gamma_ts_2          | Degeneracy of the upper energy levels |\n",
    "| $\\sigma$      | $cm^2$          | sigma_ts            | Ti-Sapphire emission cross-section |\n",
    "| $c$           | $m/s$           | c                   | Speed of light |"
   ]
  },
  {
   "cell_type": "markdown",
   "metadata": {},
   "source": [
    "***\n",
    "\n",
    "| <h4>The Frantz-Nodvik (F-N) rate equations for $\\Delta(t)$ and $n_{ph}(t)$:</h4>                 |     |\n",
    "| :-------------------------------------------------------------------------------------:          | :---|\n",
    "| $$\\frac{d}{dt}\\Delta(t) = \\gamma \\  \\sigma \\  c \\  n_{ph}(t) \\  \\Delta(t)$$                      | (1) |\n",
    "| $$\\left( \\frac{d}{dt} + \\frac{d}{dz} \\right) n_{ph}(t) = \\sigma \\  c \\  n_{ph}(t) \\  \\Delta(t)$$ | (2) |"
   ]
  },
  {
   "cell_type": "code",
   "execution_count": 3,
   "metadata": {},
   "outputs": [],
   "source": [
    "# Specify initial conditions for relevant variables\n",
    "gamma_ts_1 = 1000.\n",
    "gamma_ts_2 = 10.\n",
    "gamma_ts = 1 + gamma_ts_1 / gamma_ts_2\n",
    "sigma_ts = 1.e+10\n",
    "\n",
    "# Specify initial conditions\n",
    "delta_ts = 1.\n",
    "num_dens_photons_ts = 1.e6"
   ]
  },
  {
   "cell_type": "markdown",
   "metadata": {},
   "source": [
    "### Approximate analytical solution\n",
    "The F-N eqn.'s can be solved semi-analytically, involving quantities \n",
    "to be obtained via quadrature, given two assumptions --\n",
    "1. The seed laser pulse is square, with a full width of $\\tau$.\n",
    "2. $\\Delta(t=0)$ is independent of lontitudinal position $z$."
   ]
  },
  {
   "cell_type": "markdown",
   "metadata": {},
   "source": [
    "# Plotting"
   ]
  },
  {
   "cell_type": "code",
   "execution_count": 4,
   "metadata": {},
   "outputs": [],
   "source": [
    "import matplotlib.pyplot as plt\n",
    "from matplotlib import ticker, colors"
   ]
  },
  {
   "cell_type": "code",
   "execution_count": 5,
   "metadata": {},
   "outputs": [],
   "source": [
    "%matplotlib widget"
   ]
  },
  {
   "cell_type": "code",
   "execution_count": 6,
   "metadata": {},
   "outputs": [
    {
     "data": {
      "application/vnd.jupyter.widget-view+json": {
       "model_id": "ff598b879ae94ab9b7489583540806fb",
       "version_major": 2,
       "version_minor": 0
      },
      "text/plain": [
       "Canvas(toolbar=Toolbar(toolitems=[('Home', 'Reset original view', 'home', 'home'), ('Back', 'Back to previous …"
      ]
     },
     "metadata": {},
     "output_type": "display_data"
    }
   ],
   "source": [
    "plt.figure()\n",
    "\n",
    "# math goes here\n",
    "\n",
    "plt.title(r'$ equation goes here$', fontsize=24)\n",
    "# Values I have simulated\n",
    "r_0_vals = np.linspace(1e-14, 1e-11, )\n",
    "\n",
    "# Plot good stuff\n",
    "# plt.plot(r_0_vals * 1e12, normalized_velocity_kick(r_0_vals, current_dt, current_v_rms, current_Q), label=r'$Q_{ion}$=79,' +'dt={:2.1e}'.format(current_dt))\n",
    "# plt.plot(r_0_vals * 1e12, normalized_velocity_kick(r_0_vals, plasma_freq_dt, current_v_rms, current_Q), label=r'$Q_{ion}$=79,'+' dt={:2.1e}'.format(plasma_freq_dt))\n",
    "# plt.scatter(np.array([1e-13, 5e-15]) * 1e12, normalized_velocity_kick(np.array([1e-13, 5e-15]), current_dt, current_v_rms, current_Q))\n",
    "\n",
    "# Protons for comparison\n",
    "# plt.plot(r_0_vals * 1e12, normalized_velocity_kick(r_0_vals, current_dt, current_v_rms, 1), label=r'$Q_{ion}$=1')\n",
    "# plt.yscale('log')\n",
    "# plt.ylabel(r'$dv_{e-}$ / $v_{e-}^{rms}$', fontsize=16)\n",
    "# plt.xlabel('$r_0$ (pm)', fontsize=16)\n",
    "# plt.legend()\n",
    "# plt.annotate('Current Warp dt={:2.2e} s'.format(current_dt), xy=(0.59, 0.68), xycoords='figure fraction')\n",
    "# plt.annotate(r'$v_{e-}^{rms}$='+'{:2.2e} m/s'.format(current_v_rms), xy=(0.59, 0.63), xycoords='figure fraction')\n",
    "plt.show()"
   ]
  },
  {
   "cell_type": "code",
   "execution_count": 7,
   "metadata": {},
   "outputs": [
    {
     "data": {
      "application/vnd.jupyter.widget-view+json": {
       "model_id": "4cc5fce3ad2d4ad1bde9b32c5f3c7313",
       "version_major": 2,
       "version_minor": 0
      },
      "text/plain": [
       "Canvas(toolbar=Toolbar(toolitems=[('Home', 'Reset original view', 'home', 'home'), ('Back', 'Back to previous …"
      ]
     },
     "metadata": {},
     "output_type": "display_data"
    }
   ],
   "source": [
    "fig, ax1 = plt.subplots(1, 1)\n",
    "\n",
    "# math goes here\n",
    "\n",
    "# ax1.plot(1e12*dt_vals, 1/dt_ratio, label=r'$r_0$ = 100 fm')\n",
    "# ax1.plot(1e12*dt_vals, 1/dt_ratio, label=r'$r_0$ = 5 fm')\n",
    "\n",
    "# ax1.set_xlabel('dt (ps)')\n",
    "# ax1.set_ylabel(r'$\\frac{dx}{v_{max}(r_0)}$ / dt')\n",
    "# ax1.legend()\n",
    "                 \n",
    "plt.show()"
   ]
  },
  {
   "cell_type": "code",
   "execution_count": null,
   "metadata": {},
   "outputs": [],
   "source": []
  }
 ],
 "metadata": {
  "kernelspec": {
   "display_name": "Python 3",
   "language": "python",
   "name": "py3"
  },
  "language_info": {
   "codemirror_mode": {
    "name": "ipython",
    "version": 3
   },
   "file_extension": ".py",
   "mimetype": "text/x-python",
   "name": "python",
   "nbconvert_exporter": "python",
   "pygments_lexer": "ipython3",
   "version": "3.7.2"
  }
 },
 "nbformat": 4,
 "nbformat_minor": 4
}
