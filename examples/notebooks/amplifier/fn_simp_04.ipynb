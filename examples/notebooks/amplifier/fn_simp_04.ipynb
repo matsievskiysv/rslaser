{
 "cells": [
  {
   "cell_type": "code",
   "execution_count": null,
   "metadata": {},
   "outputs": [
    {
     "name": "stdout",
     "output_type": "stream",
     "text": [
      "\n",
      " # of time steps =  1428\n",
      " # cells along x =  1000\n",
      "\n",
      "\n"
     ]
    },
    {
     "data": {
      "image/png": "[encoded data removed]",
      "text/plain": [
       "<Figure size 432x288 with 1 Axes>"
      ]
     },
     "metadata": {
      "needs_background": "light"
     },
     "output_type": "display_data"
    },
    {
     "data": {
      "image/png": "[encoded data removed]",
      "text/plain": [
       "<Figure size 432x288 with 1 Axes>"
      ]
     },
     "metadata": {
      "needs_background": "light"
     },
     "output_type": "display_data"
    }
   ],
   "source": [
    "'''\n",
    "File:  fn_simp_04.py\n",
    "\n",
    "This test shows a static distribution of excited states in a crystal,\n",
    "with an laser envelope of photons that sweep across the crystal.\n",
    "\n",
    "The only dynamical equation is that of the excited states in the crystal.\n",
    "'''\n",
    "from dolfin import *\n",
    "import matplotlib.pyplot as plt\n",
    "\n",
    "# Specify the BCs\n",
    "def on_left(x, on_boundary):\n",
    "    return (on_boundary and near(x[0], 0.))\n",
    "\n",
    "def on_right(x, on_boundary):\n",
    "    return (on_boundary and near (x[0], 1.))\n",
    "\n",
    "V_x = 0.5708215297450425\n",
    "n_ds = 1000\n",
    "ds = 1./n_ds\n",
    "lp_density = 1.\n",
    "lp_width = 0.42917847025495753\n",
    "c_density = 1.e12\n",
    "c_width = 0.141643059490085\n",
    "c_sigma = 1.e-21\n",
    "\n",
    "# create a 1D mesh on the interval [0,1]\n",
    "mesh = UnitIntervalMesh(n_ds)\n",
    "V = FunctionSpace(mesh, \"CG\", 3)\n",
    "v = TestFunction(V)\n",
    "\n",
    "u = Function(V)\n",
    "uprev = Function(V)\n",
    "    \n",
    "# instantiate the corresponding FEniCS objects for Dirichlet BCs\n",
    "bc_left = DirichletBC(V, Constant(0), on_left)\n",
    "bc_right = DirichletBC(V, Constant(0), on_right)\n",
    "bc = [bc_left, bc_right]\n",
    "\n",
    "# initial conditions for number density of excited states\n",
    "u0 = Expression(('x[0]>=lp_width && x[0]<=(lp_width+c_width) ? \\\n",
    "                c_density*sin(pi*(x[0]-lp_width)/c_width) : 0.'), \\\n",
    "                degree=3, lp_width=0.2, c_width=0.6, c_density=1., ds=0.01)\n",
    "u0.c_width = c_width\n",
    "u0.lp_width = lp_width\n",
    "u0.c_density = c_density\n",
    "u0.ds = ds\n",
    "    \n",
    "# project the above expression onto the solution vector\n",
    "u = interpolate(u0, V)\n",
    "uprev.assign(u)\n",
    "\n",
    "# define the externally imposed laser pulse\n",
    "ulaser = Expression(('(x[0]-V_x*t)>4.*ds && (x[0]-V_x*t)<(lp_width-4.*ds) ? \\\n",
    "                lp_density*sin(pi*(x[0]-V_x*t)/lp_width) : 0.'), \\\n",
    "                degree=3, lp_width=0.2, V_x=0.6, lp_density=1., t=0., ds=0.01)\n",
    "ulaser.lp_width = lp_width\n",
    "ulaser.lp_density = lp_density\n",
    "ulaser.V_x = V_x\n",
    "ulaser.ds = ds\n",
    "\n",
    "time = 2.\n",
    "dt = 0.8 * ds / V_x\n",
    "n_steps = int(1 + time / dt)\n",
    "\n",
    "print('')\n",
    "print(' # of time steps = ', n_steps)\n",
    "print(' # cells along x = ', n_ds)\n",
    "print('')\n",
    "print('')\n",
    "\n",
    "DT = Constant(dt)\n",
    "VX = Constant(V_x)\n",
    "SIGMA = Constant(c_sigma)\n",
    "\n",
    "# inital plot of excited states and laser pulse envelope\n",
    "uplot = project(u, V)\n",
    "plot(uplot, title=('Density of crystal excited states (initial)'))\n",
    "plt.grid(True)\n",
    "plt.show()\n",
    "plt.close()\n",
    "\n",
    "uplot = project(ulaser, V)\n",
    "plot(uplot, title=('Density of laser photons (initial)'))\n",
    "plt.grid(True)\n",
    "plt.show()\n",
    "plt.close()\n",
    "\n",
    "# try to get some numerical diagnostics\n",
    "set_log_level(LogLevel.INFO)\n",
    "\n",
    "t=0.5*dt\n",
    "for i_loop in range(0, n_steps):\n",
    "    ulaser.t = t\n",
    "    t += 0.5*dt\n",
    "    \n",
    "    F = ( (u - uprev) * v / DT \\\n",
    "         + SIGMA * u * ulaser * v\n",
    "        ) * dx\n",
    "    \n",
    "#    Jacobian = derivative(F, u)\n",
    "#    solve(F==0, u, bc, J=Jacobian)\n",
    "    solve(F==0, u, bc)\n",
    "    uprev.assign(u)\n",
    "    \n",
    "#    print('i_loop = ', i_loop)\n",
    "#    if i_loop > 200:\n",
    "#        break\n",
    "\n",
    "# final plot of excited states and laser pulse envelope\n",
    "uplot = project(u, V)\n",
    "plot(uplot, title=('Density of crystal excited states (final)'))\n",
    "plt.grid(True)\n",
    "plt.show()\n",
    "plt.close()\n",
    "\n",
    "uplot = project(ulaser, V)\n",
    "plot(uplot, title=('Density of laser photons (initial)'))\n",
    "plt.grid(True)\n",
    "plt.show()\n",
    "plt.close()"
   ]
  },
  {
   "cell_type": "code",
   "execution_count": null,
   "metadata": {},
   "outputs": [],
   "source": []
  }
 ],
 "metadata": {
  "kernelspec": {
   "display_name": "Python 3",
   "language": "python",
   "name": "python3"
  },
  "language_info": {
   "codemirror_mode": {
    "name": "ipython",
    "version": 3
   },
   "file_extension": ".py",
   "mimetype": "text/x-python",
   "name": "python",
   "nbconvert_exporter": "python",
   "pygments_lexer": "ipython3",
   "version": "3.7.2"
  }
 },
 "nbformat": 4,
 "nbformat_minor": 4
}
