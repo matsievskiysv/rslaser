{
 "cells": [
  {
   "cell_type": "markdown",
   "metadata": {},
   "source": [
    "<center><b> 1D time-dependent Frantz Nodvik equations </b></center>\n",
    "\n",
    "<br> du1/dt + gamma*K*u1*u2 = 0           u1 = Delta = # density of excited states \n",
    "<br> du2/dt + c*du2/dx - K*u1*u2 = 0      u2 = n_ph  = # density of photons\n",
    "<br>                                      c = speed of light\n",
    "<br>                                      K = sigma * c\n",
    "<br> IC:  TBD...\n",
    "<br> BC:  TBD...\n",
    "<br> This code is distributed under the Apache License, Version 2.0, January 2004.\n",
    "<br> Copyright (c) 2020 RadiaSoft LLC, All rights reserved\n",
    "<br> Author:  David Bruhwiler                                     \n",
    "<br> The laser pulse duration $T_{laser}$ is typically 200 ps to 1 ns.\n",
    "<br> The Ti-Sapphire phase relaxation time $T_{crystal}$ is between $10 fs$ and $10 ps$.\n",
    "<br> Because $T_{crystal} << T_{laser}$, we can use the Frantz-Nodvik (F-N) rate equations.\n",
    "<br> This approach can be used for other crystals as well."
   ]
  },
  {
   "cell_type": "code",
   "execution_count": 1,
   "metadata": {},
   "outputs": [],
   "source": [
    "# Primary library for the FEniCS Python API (should not import *)\n",
    "from dolfin import *\n",
    "from pykern import pkcollections\n",
    "import scipy.constants"
   ]
  },
  {
   "cell_type": "code",
   "execution_count": 6,
   "metadata": {},
   "outputs": [],
   "source": [
    "def frantz_nodvik_1d_solver(fn1d):\n",
    "    \"\"\"Frantz-Nodvik 1D solver for wavefront amplification in a pumped crystal amplifier\n",
    "\n",
    "    Args:\n",
    "        fn1d (PKDict): derived class of Python dict\n",
    "\n",
    "    Returns:\n",
    "        NA\n",
    "    \"\"\"\n",
    "    \n",
    "    # define the variational problem via function F\n",
    "    F = ( (fn1d.u_1 - fn1d.u_n1) * fn1d.v_1 / fn1d.dt \\\n",
    "        + fn1d.c_gamma * fn1d.K * fn1d.u_1 * fn1d.u_2 * fn1d.v_1 \\\n",
    "        + (fn1d.u_2 - fn1d.u_n2) * fn1d.v_2 / fn1d.dt \\\n",
    "        + fn1d.c * fn1d.u_2.dx(0) * fn1d.v_2 \\\n",
    "        - fn1d.K * fn1d.u_1 * fn1d.u_2 * fn1d.v_2 \\\n",
    "        ) * dx\n",
    "    \n",
    "    # solve the system of equations\n",
    "    solve(F==0, fn1d.u)\n",
    "    fn1d.u_n.assign(fn1d.u)\n",
    "    \n",
    "    return fn1d"
   ]
  },
  {
   "cell_type": "code",
   "execution_count": 10,
   "metadata": {},
   "outputs": [],
   "source": [
    "def frantz_nodvik_1d_setup():\n",
    "    \"\"\"Setup choices for Frantz-Nodvik 1D solver\n",
    "\n",
    "    Args:\n",
    "        NA\n",
    "\n",
    "    Returns:\n",
    "        fn1d (object):  instance of the DataFrantzNodvik1D class\n",
    "    \"\"\"\n",
    "    # specify the desired parameters (edit by hand for now)\n",
    "    # create a Pykern Dict object to hold the data\n",
    "    fn1d = pkcollections.PKDict()\n",
    "    \n",
    "    fn1d.sim_time = 1.       # [s]\n",
    "    fn1d.n_steps = 100\n",
    "    fn1d.dt = fn1d.sim_time  \\\n",
    "            / fn1d.n_steps      # [s]\n",
    "    fn1d.n_dx = 100\n",
    "    fn1d.c_gamma = 1.          # dimensionless\n",
    "    fn1d.c_sigma = 1.e-3        # [m^2]\n",
    "    fn1d.c_width = 1.         # [m]\n",
    "    fn1d.c_density = 1.      # [m^-3]\n",
    "    fn1d.lp_density = 1.e-6       # [m^-3]\n",
    "    fn1d.lp_width = 1.       # [s]\n",
    "    \n",
    "#    fn1d.c = scipy.constants.c         # speed of light [m/s]\n",
    "    fn1d.c = 1.\n",
    "    fn1d.K = fn1d.c_sigma * fn1d.c     # [m^3/s]\n",
    "    \n",
    "    # create a 1D mesh on the interval [0.,c_width].\n",
    "    fn1d.x_left = 0.\n",
    "    fn1d.x_right = fn1d.c_width\n",
    "    fn1d.mesh = IntervalMesh(fn1d.n_dx, fn1d.x_left, fn1d.x_right)\n",
    "\n",
    "    # let's try continuous line segments\n",
    "    fn1d.p1 = FiniteElement('CG','interval',3)\n",
    "    \n",
    "    # define an 'element' appropriate for two 1D functions\n",
    "    fn1d.element = MixedElement([fn1d.p1, fn1d.p1])\n",
    "    \n",
    "    # define the test functions: v=[v_1, v_2]\n",
    "    fn1d.v = FunctionSpace(fn1d.mesh, fn1d.element)\n",
    "    fn1d.v_1, fn1d.v_2 = TestFunctions(fn1d.v)\n",
    "\n",
    "    # define solution functions: u=[u_1, u_2]\n",
    "    fn1d.u = Function(fn1d.v)\n",
    "    fn1d.u_1, fn1d.u_2 = split(fn1d.u)\n",
    "\n",
    "    # solutions from the previous time step: u_n=[u_n1, u_n2]\n",
    "    fn1d.u_n = Function(fn1d.v)\n",
    "    fn1d.u_n1, fn1d.u_n2 = split(fn1d.u_n)\n",
    "    \n",
    "    # specify and apply the initial conditions\n",
    "    u0 = Function(fn1d.v)\n",
    "    u0_1, u0_2 = split(u0)\n",
    "    u0_1 = Constant(fn1d.c_density)\n",
    "    u0_2 = Constant(0.)\n",
    "    fn1d.u.interpolate(u0)\n",
    "\n",
    "    # set the 'previous' value of u\n",
    "    fn1d.u_n.assign(fn1d.u)\n",
    "\n",
    "    return fn1d"
   ]
  },
  {
   "cell_type": "code",
   "execution_count": 11,
   "metadata": {},
   "outputs": [],
   "source": [
    "# initialize the data object\n",
    "fn1d = frantz_nodvik_1d_setup()"
   ]
  },
  {
   "cell_type": "code",
   "execution_count": 12,
   "metadata": {},
   "outputs": [
    {
     "name": "stdout",
     "output_type": "stream",
     "text": [
      "Calling FFC just-in-time (JIT) compiler, this may take some time.\n",
      "Calling FFC just-in-time (JIT) compiler, this may take some time.\n"
     ]
    }
   ],
   "source": [
    "# solve the equations for one time step\n",
    "fn1d = frantz_nodvik_1d_solver(fn1d)"
   ]
  },
  {
   "cell_type": "code",
   "execution_count": null,
   "metadata": {},
   "outputs": [],
   "source": []
  }
 ],
 "metadata": {
  "kernelspec": {
   "display_name": "Python 3",
   "language": "python",
   "name": "python3"
  },
  "language_info": {
   "codemirror_mode": {
    "name": "ipython",
    "version": 3
   },
   "file_extension": ".py",
   "mimetype": "text/x-python",
   "name": "python",
   "nbconvert_exporter": "python",
   "pygments_lexer": "ipython3",
   "version": "3.7.2"
  }
 },
 "nbformat": 4,
 "nbformat_minor": 4
}
