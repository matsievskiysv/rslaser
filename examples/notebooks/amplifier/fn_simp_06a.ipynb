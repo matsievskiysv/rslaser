{
 "cells": [
  {
   "cell_type": "markdown",
   "metadata": {},
   "source": [
    "# *FEniCS NB:* Laser Pulse Crossing a Crystal\n",
    "### *File:*    fn_simp_06a.py — propagate only the laser pulse\n",
    "\n",
    "The Frantz-Nodvik equations\n",
    "$$\n",
    "\\begin{align}\n",
    "  \\partial_t n + c\\partial x &= \\sigma c n \\Delta, \\\\\n",
    "  \\partial_t \\Delta          &= -\\gamma \\sigma c n \\Delta, \\\\\n",
    "\\end{align}\n",
    "$$\n",
    "are a pair of coupled, first-order PDEs that describe\n",
    "the propagation of a one-dimensional laser pulse across a\n",
    "slab of laser gain material composed of two-level atoms.\n",
    "Here, $x$ and $t$ denote respectively distance along the beam axis and\n",
    "the time; $n(x,t)$ denotes photon number density in the medium;\n",
    "and $\\Delta(x,t)$ denotes the “population inversion”, $N_2 - N_1$,\n",
    "giving the difference between the number density of atoms\n",
    "in the excited state as compared to those in the ground state.\n",
    "In addition, $c$ denotes the speed of light in the medium,\n",
    "$\\sigma$ the resonance absorption cross-section,\n",
    "and $\\gamma$ a factor related to the relative degeneracy\n",
    "of the ground and excited states.\n",
    "\n",
    "One set of boundary conditions relevant to this problem are\n",
    "the initial population inversion over the domain of interest,\n",
    "together with the initial profile of the incident laser pulse."
   ]
  },
  {
   "cell_type": "markdown",
   "metadata": {},
   "source": [
    "The only dynamical equation is that of the excited states in the crystal.\n",
    "\n",
    "Experimenting with different solver here...\n",
    "\n",
    "File:  fn_simp_01.py\n",
    "\n",
    "This simple test shows an initial laser pulse envelope.\n",
    "The envelope propagates to the right, while also dispersing."
   ]
  },
  {
   "cell_type": "code",
   "execution_count": 1,
   "metadata": {},
   "outputs": [],
   "source": [
    "%matplotlib inline\n",
    "import matplotlib.pyplot as plt\n",
    "import numpy as np\n",
    "\n",
    "# import os\n",
    "# import sys\n",
    "# from IPython.display import Image\n",
    "from IPython.core.interactiveshell import InteractiveShell\n",
    "InteractiveShell.ast_node_interactivity = \"all\""
   ]
  },
  {
   "cell_type": "code",
   "execution_count": 2,
   "metadata": {},
   "outputs": [],
   "source": [
    "from fenics import *\n",
    "from mshr import *"
   ]
  },
  {
   "cell_type": "markdown",
   "metadata": {},
   "source": [
    "Describe the simulation: parameters, domain, boundary conditions, initial conditions."
   ]
  },
  {
   "cell_type": "code",
   "execution_count": 3,
   "metadata": {},
   "outputs": [],
   "source": [
    "# set simulation parameters: domain, crystal, laser, time step\n",
    "# -- simulation domain\n",
    "Ld = 1.00         # length of simulation domain (we force, see below, domain to [0,1])\n",
    "mesh_d = 226      # mesh density\n",
    "ds = Ld / mesh_d  # size of individual mesh cells\n",
    "# -- crystal\n",
    "Lc = 100 * ds     # length of crystal\n",
    "D0 = 10.0         # initial population inversion density\n",
    "# -- laser pulse (normalized parameters)\n",
    "cl = 1.00         # speed of light in vacuum\n",
    "cm = 163 * ds     # speed of light in crystal\n",
    "lp_w = 63 * ds    # laser pulse width\n",
    "lp_hw = lp_w / 2  # laser pulse half-width\n",
    "lp_x0 = 0.10      # laser pulse starting point\n",
    "lp_n0 = 1.00      # incident photon density\n",
    "# -- time step\n",
    "T = 183 * ds      # total simulation time\n",
    "n_steps = 200     # number of time steps\n",
    "dt = T / n_steps  # size of time step\n",
    "nip = 10          # number of intervals between plots\n",
    "\n",
    "# create domain: a 1D mesh on the unit interval [0,1]\n",
    "mesh = UnitIntervalMesh(mesh_d)\n",
    "V = FunctionSpace(mesh, \"CG\", 1)\n",
    "\n",
    "# define boundary functions: left and right ends\n",
    "def on_L(x, on_boundary):\n",
    "    return (on_boundary and near(x[0], 0.))\n",
    "\n",
    "def on_R(x, on_boundary):\n",
    "    return (on_boundary and near (x[0], 1.))\n",
    "    \n",
    "# specify boundary conditions\n",
    "bc_L = DirichletBC(V, Constant(0), on_L)\n",
    "bc_R = DirichletBC(V, Constant(0), on_R)\n",
    "bc = [bc_L, bc_R]\n",
    "# bc = bc_L\n",
    "\n",
    "# specify initial conditions\n",
    "# -- define profile of incident laser pulse: half wave near left edge of domain\n",
    "nph_init = Expression(('x[0]>2.*ds && x[0]<(lp_w-2.*ds) ? \\\n",
    "                        lp_n0*sin(pi*(x[0]-2.*ds)/(lp_w-4.*ds)) : 0.'), \\\n",
    "                       degree=1, lp_w=0.2, Lc=Lc, lp_n0=lp_n0, ds=ds)\n",
    "# -- initialize nph_j\n",
    "nph   = interpolate(nph_init, V)\n",
    "nph_j = interpolate(nph_init, V)"
   ]
  },
  {
   "cell_type": "markdown",
   "metadata": {},
   "source": [
    "Set up the variational problem."
   ]
  },
  {
   "cell_type": "code",
   "execution_count": 4,
   "metadata": {},
   "outputs": [],
   "source": [
    "# define variational problem\n",
    "nph = TrialFunction(V)\n",
    "v   = TestFunction(V)\n",
    "F = nph * v * dx - nph_j * v * dx + cm * dt * nph.dx(0) * v * dx\n",
    "# F = ( nph * v - nph_j * v + cm * dt * nph.dx(0) * v ) * dx\n",
    "# F = ( nph - nph_j + cm * dt * nph.dx(0) ) * v * dx\n",
    "# solve(a == L, nph, bc)\n",
    "a, L = lhs(F), rhs(F)\n",
    "    \n",
    "# project the initial pulse profile onto the solution vector\n",
    "# nph = interpolate(nph_init, V)\n",
    "# and initialize\n",
    "# nph_prev.assign(nph)"
   ]
  },
  {
   "cell_type": "markdown",
   "metadata": {},
   "source": [
    "Execute simulation."
   ]
  },
  {
   "cell_type": "code",
   "execution_count": 5,
   "metadata": {},
   "outputs": [
    {
     "data": {
      "text/plain": [
       "[<matplotlib.lines.Line2D at 0x7f0b421cefd0>]"
      ]
     },
     "execution_count": 5,
     "metadata": {},
     "output_type": "execute_result"
    },
    {
     "data": {
      "text/plain": [
       "(0.0, 0.2)"
      ]
     },
     "execution_count": 5,
     "metadata": {},
     "output_type": "execute_result"
    },
    {
     "data": {
      "image/png": "[encoded data removed]",
      "text/plain": [
       "<Figure size 432x288 with 1 Axes>"
      ]
     },
     "metadata": {
      "needs_background": "light"
     },
     "output_type": "display_data"
    },
    {
     "data": {
      "text/plain": [
       "[<matplotlib.lines.Line2D at 0x7f0b42064550>]"
      ]
     },
     "execution_count": 5,
     "metadata": {},
     "output_type": "execute_result"
    },
    {
     "data": {
      "image/png": "[encoded data removed]",
      "text/plain": [
       "<Figure size 432x288 with 1 Axes>"
      ]
     },
     "metadata": {
      "needs_background": "light"
     },
     "output_type": "display_data"
    }
   ],
   "source": [
    "# inital plot of the laser pulse envelope\n",
    "nplot = project(interpolate(nph_init, V), V)\n",
    "plot(nplot, title=('Photon density in laser pulse (initial)'))\n",
    "plt.xlim([0.00, 0.20])\n",
    "plt.grid(True)\n",
    "plt.show()\n",
    "plt.close()\n",
    "\n",
    "# -- initialize nph_j\n",
    "# nph_j = interpolate(nph_init, V)\n",
    "\n",
    "# F = nph * v * dx - nph_j * v * dx + cm * dt * nph.dx(0) * v * dx\n",
    "# F = ( nph * v - nph_j * v + cm * dt * nph.dx(0) * v ) * dx\n",
    "# F = ( nph - nph_j + cm * dt * nph.dx(0) ) * v * dx\n",
    "# a, L = lhs(F), rhs(F)\n",
    "# solve(a == L, nph, bc)\n",
    "# solve(F == 0, nph, bc)\n",
    "\n",
    "nph = Function(V)\n",
    "# F = nph * v * dx - nph_j * v * dx + cm * dt * nph.dx(0) * v * dx\n",
    "for ii in range(n_steps):\n",
    "#     solve(F == 0, nph, bc)\n",
    "    solve(a == L, nph, bc)\n",
    "    nph_j.assign(nph)\n",
    "\n",
    "# final plot of the laser pulse envelope\n",
    "nplot = project(nph, V)\n",
    "plot(nplot, title=('Photon density in laser pulse (final)'))\n",
    "# plt.xlim([0.00, 0.20])\n",
    "plt.grid(True)\n",
    "plt.show()\n",
    "plt.close()"
   ]
  },
  {
   "cell_type": "code",
   "execution_count": null,
   "metadata": {},
   "outputs": [],
   "source": [
    "nph = Function(V)\n",
    "for i_loop in range(0, n_steps):\n",
    "    solve(F == 0, nph, bc)\n",
    "    nph_j.assign(nph)\n",
    "    \n",
    "# final plot of the laser pulse envelope\n",
    "nplot = project(nph, V)\n",
    "plot(nplot, title=('Photon density in laser pulse (final)'))\n",
    "plt.grid(True)\n",
    "plt.show()\n",
    "plt.close()"
   ]
  },
  {
   "cell_type": "code",
   "execution_count": null,
   "metadata": {},
   "outputs": [],
   "source": [
    "# define time-evolution function\n",
    "def evolve():\n",
    "\n",
    "    # report initial state\n",
    "    yield u_n\n",
    "\n",
    "    # time-stepping\n",
    "    u = Function(V)\n",
    "    t = 0\n",
    "    for n in range(1, n_steps + 1):\n",
    "\n",
    "        # update current time\n",
    "        t += dt\n",
    "\n",
    "        # compute solution\n",
    "        solve(a == L, u, bc)\n",
    "\n",
    "        # report solution at nip-step intervals\n",
    "        if n % nip == 0:\n",
    "            yield u\n",
    "\n",
    "        # update previous solution\n",
    "        u_n.assign(u)\n"
   ]
  },
  {
   "cell_type": "code",
   "execution_count": null,
   "metadata": {},
   "outputs": [],
   "source": []
  }
 ],
 "metadata": {
  "kernelspec": {
   "display_name": "Python 3",
   "language": "python",
   "name": "python3"
  },
  "language_info": {
   "codemirror_mode": {
    "name": "ipython",
    "version": 3
   },
   "file_extension": ".py",
   "mimetype": "text/x-python",
   "name": "python",
   "nbconvert_exporter": "python",
   "pygments_lexer": "ipython3",
   "version": "3.7.2"
  }
 },
 "nbformat": 4,
 "nbformat_minor": 4
}
