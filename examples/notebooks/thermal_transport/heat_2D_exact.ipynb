{
 "cells": [
  {
   "cell_type": "markdown",
   "metadata": {},
   "source": [
    "# *FEniCS tutorial:* Heat equation with Dirichlet boundary conditions\n",
    "\n",
    "In this demo, we solve the two-dimensional diffusion equation with Dirichlet\n",
    "boundary conditions $u_D$ and source term $f$. Both are chosen so as to yield\n",
    "an exact analytic result against which we can compare our numerical results.\n",
    "\n",
    "$$\n",
    "\\begin{align}\n",
    "  u'   &= \\nabla^2 u + f     \\quad\\text{in the unit square} \\\\\n",
    "  u    &= u_D  \\hphantom{u+f}\\quad\\text{on the boundary} \\\\\n",
    "  u    &= u_0  \\hphantom{u+f}\\quad\\;\\text{at $t = 0$} \\\\\n",
    "  u_D  &= 1 + x^2 + \\alpha y^2 + \\beta t \\\\\n",
    "  f    &= \\beta - 2 (1 + \\alpha)\n",
    "\\end{align}\n",
    "$$"
   ]
  },
  {
   "cell_type": "code",
   "execution_count": null,
   "metadata": {},
   "outputs": [],
   "source": [
    "%matplotlib inline\n",
    "import matplotlib.pyplot as plt\n",
    "import numpy as np\n",
    "import time as tm\n",
    "\n",
    "# import os\n",
    "# import re\n",
    "# from color import *\n",
    "# from mplotg import *\n",
    "# from IPython.display import Image\n",
    "# from IPython.core.interactiveshell import InteractiveShell\n",
    "# InteractiveShell.ast_node_interactivity = \"all\"# "
   ]
  },
  {
   "cell_type": "code",
   "execution_count": null,
   "metadata": {},
   "outputs": [],
   "source": [
    "# from mplotg import *\n",
    "# import matplotlib.pyplot as plt\n",
    "\n",
    "def multiplot_from_generator(g, num_columns, figsize_for_one_row=None):\n",
    "    # call 'next(g)' to get past the first 'yield'\n",
    "#     next(g)\n",
    "    # default to 15-inch rows, with square subplots\n",
    "    if figsize_for_one_row is None:\n",
    "        figsize_for_one_row = (15, 15/num_columns)\n",
    "    try:\n",
    "        while True:\n",
    "            # call plt.figure once per row\n",
    "            plt.figure(figsize=figsize_for_one_row)\n",
    "            for col in range(num_columns):\n",
    "                ax = plt.subplot(1, num_columns, col+1)\n",
    "                next(g)\n",
    "    except StopIteration:\n",
    "        pass"
   ]
  },
  {
   "cell_type": "code",
   "execution_count": null,
   "metadata": {},
   "outputs": [],
   "source": [
    "from fenics import *"
   ]
  },
  {
   "cell_type": "code",
   "execution_count": null,
   "metadata": {},
   "outputs": [],
   "source": [
    "T = 2.0            # final time\n",
    "num_steps = 10     # number of time steps\n",
    "dt = T / num_steps # time step size\n",
    "alpha = 3          # parameter alpha\n",
    "beta = 1.2         # parameter beta"
   ]
  },
  {
   "cell_type": "code",
   "execution_count": null,
   "metadata": {},
   "outputs": [],
   "source": [
    "# Create mesh and define function space\n",
    "nx = ny = 8\n",
    "mesh = UnitSquareMesh(nx, ny)\n",
    "V = FunctionSpace(mesh, 'P', 1)"
   ]
  },
  {
   "cell_type": "code",
   "execution_count": null,
   "metadata": {},
   "outputs": [],
   "source": [
    "# Define boundary condition\n",
    "u_D = Expression('1 + x[0]*x[0] + alpha*x[1]*x[1] + beta*t',\n",
    "                 degree=2, alpha=alpha, beta=beta, t=0)\n",
    "\n",
    "def boundary(x, on_boundary):\n",
    "    return on_boundary\n",
    "\n",
    "bc = DirichletBC(V, u_D, boundary)"
   ]
  },
  {
   "cell_type": "code",
   "execution_count": null,
   "metadata": {},
   "outputs": [],
   "source": [
    "# Define initial value\n",
    "u_n = interpolate(u_D, V)\n",
    "#u_n = project(u_D, V)"
   ]
  },
  {
   "cell_type": "code",
   "execution_count": null,
   "metadata": {},
   "outputs": [],
   "source": [
    "# Define variational problem\n",
    "u = TrialFunction(V)\n",
    "v = TestFunction(V)\n",
    "f = Constant(beta - 2 - 2*alpha)\n",
    "F = u*v*dx + dt*dot(grad(u), grad(v))*dx - (u_n + dt*f)*v*dx\n",
    "a, L = lhs(F), rhs(F)"
   ]
  },
  {
   "cell_type": "code",
   "execution_count": null,
   "metadata": {},
   "outputs": [],
   "source": [
    "# Time-stepping\n",
    "u = Function(V)\n",
    "t = 0\n",
    "for n in range(num_steps):\n",
    "\n",
    "    # Update current time\n",
    "    t += dt\n",
    "    u_D.t = t\n",
    "\n",
    "    # Compute solution\n",
    "    solve(a == L, u, bc)\n",
    "\n",
    "    # Plot solution\n",
    "    plot(u)\n",
    "\n",
    "    # Compute error at vertices\n",
    "    u_e = interpolate(u_D, V)\n",
    "    error = np.abs(u_e.vector() - u.vector()).max()\n",
    "    print('t = %.2f: error = %.3g' % (t, error))\n",
    "\n",
    "    # Update previous solution\n",
    "    u_n.assign(u)"
   ]
  },
  {
   "cell_type": "code",
   "execution_count": null,
   "metadata": {},
   "outputs": [],
   "source": [
    "def evolve():\n",
    "    # Time-stepping\n",
    "    u = Function(V)\n",
    "    t=0\n",
    "    for n in range(num_steps):\n",
    "    \n",
    "        # Update current time\n",
    "        t += dt\n",
    "        u_D.t = t\n",
    "\n",
    "        # Compute solution\n",
    "        solve(a == L, u, bc)\n",
    "\n",
    "        # Plot solution\n",
    "        yield plot(u)\n",
    "\n",
    "        # Compute error at vertices\n",
    "        u_e = interpolate(u_D, V)\n",
    "        # error = np.abs(u_e.vector().array() - u.vector().array()).max()\n",
    "        error = np.abs(u_e.vector() - u.vector()).max()\n",
    "        print('t = %.2f: error = %.3g' % (t, error))\n",
    "\n",
    "        # Update previous solution\n",
    "        u_n.assign(u)"
   ]
  },
  {
   "cell_type": "code",
   "execution_count": null,
   "metadata": {},
   "outputs": [],
   "source": [
    "multiplot_from_generator(evolve(), 5, (15, 3))"
   ]
  },
  {
   "cell_type": "code",
   "execution_count": null,
   "metadata": {},
   "outputs": [],
   "source": []
  }
 ],
 "metadata": {
  "kernelspec": {
   "display_name": "Python 3",
   "language": "python",
   "name": "python3"
  },
  "language_info": {
   "codemirror_mode": {
    "name": "ipython",
    "version": 3
   },
   "file_extension": ".py",
   "mimetype": "text/x-python",
   "name": "python",
   "nbconvert_exporter": "python",
   "pygments_lexer": "ipython3",
   "version": "3.7.2"
  }
 },
 "nbformat": 4,
 "nbformat_minor": 4
}
