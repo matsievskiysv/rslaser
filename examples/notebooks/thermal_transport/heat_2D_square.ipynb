{
 "cells": [
  {
   "cell_type": "markdown",
   "metadata": {},
   "source": [
    "# *FEniCS tutorial:* Diffusion of a Gaussian hill\n",
    "\n",
    "In this demo, we solve the two-dimensional diffusion equation with Dirichlet\n",
    "bounadary conditions $u_D$ and source term $f = 0$. The initial condition,\n",
    "$u_0$, we difine as a Gaussian hill.\n",
    "\n",
    "$$\n",
    "\\begin{align}\n",
    "  u'   &= \\nabla^2 u + f \\quad\\text{in the unit square} \\\\\n",
    "  u    &= u_D  \\hphantom{u+f}\\quad\\text{on the boundary} \\\\\n",
    "  u    &= u_0  \\hphantom{u+f}\\quad\\;\\text{at $t = 0$} \\\\\n",
    "\\end{align}\n",
    "$$\n",
    "with\n",
    "$$\n",
    "\\begin{align}\n",
    "  u_D  &= 0 \\\\\n",
    "  u_0  &= \\exp\\bigl(-a(x^2 + y^2)\\bigr) \\\\\n",
    "  f    &= 0\n",
    "\\end{align}\n",
    "$$"
   ]
  },
  {
   "cell_type": "code",
   "execution_count": null,
   "metadata": {},
   "outputs": [],
   "source": [
    "%matplotlib inline\n",
    "import matplotlib.pyplot as plt\n",
    "import numpy as np\n",
    "import time as tm\n",
    "\n",
    "# import os\n",
    "# import re\n",
    "# from color import *\n",
    "# from IPython.display import Image\n",
    "# from IPython.core.interactiveshell import InteractiveShell\n",
    "# InteractiveShell.ast_node_interactivity = \"all\""
   ]
  },
  {
   "cell_type": "code",
   "execution_count": null,
   "metadata": {},
   "outputs": [],
   "source": [
    "# from mplotg import *\n",
    "# import matplotlib.pyplot as plt\n",
    "\n",
    "def multiplot_from_generator(g, num_columns, figsize_for_one_row=None):\n",
    "    # default to 15-inch rows, with square subplots\n",
    "    if figsize_for_one_row is None:\n",
    "        figsize_for_one_row = (15, 15/num_columns)\n",
    "    try:\n",
    "        while True:\n",
    "            # call plt.figure once per row\n",
    "            plt.figure(figsize=figsize_for_one_row)\n",
    "            for col in range(num_columns):\n",
    "                ax = plt.subplot(1, num_columns, col+1)\n",
    "                next(g)\n",
    "    except StopIteration:\n",
    "        pass"
   ]
  },
  {
   "cell_type": "code",
   "execution_count": null,
   "metadata": {},
   "outputs": [],
   "source": [
    "from fenics import *"
   ]
  },
  {
   "cell_type": "code",
   "execution_count": null,
   "metadata": {},
   "outputs": [],
   "source": [
    "## set up the problem and define main simulation function evolve()\n",
    "\n",
    "# set parameters\n",
    "T = 2.0            # total simulation time\n",
    "num_steps = 50     # number of time steps\n",
    "dt = T / num_steps # size of time step\n",
    "\n",
    "# create mesh and define function space\n",
    "nx = ny = 30\n",
    "mesh = RectangleMesh(Point(-2, -2), Point(2, 2), nx, ny)\n",
    "V = FunctionSpace(mesh, 'P', 1)\n",
    "\n",
    "# define boundary condition\n",
    "def boundary(x, on_boundary):\n",
    "    return on_boundary\n",
    "\n",
    "bc = DirichletBC(V, Constant(0), boundary)\n",
    "\n",
    "# define initial value\n",
    "u_0 = Expression('exp(-a*pow(x[0], 2) - a*pow(x[1], 2))',\n",
    "                 degree=2, a=5)\n",
    "u_n = interpolate(u_0, V)\n",
    "\n",
    "# define variational problem\n",
    "u = TrialFunction(V)\n",
    "v = TestFunction(V)\n",
    "f = Constant(0)\n",
    "F = u*v*dx + dt*dot(grad(u), grad(v))*dx - (u_n + dt*f)*v*dx\n",
    "a, L = lhs(F), rhs(F)\n",
    "\n",
    "# define time-evolution function\n",
    "def evolve():\n",
    "    # initialization\n",
    "    nip = 10 # number of intervals between plots\n",
    "    u = Function(V)\n",
    "    t = 0\n",
    "\n",
    "    # time-stepping\n",
    "    for n in range(num_steps):\n",
    "\n",
    "        # update current time\n",
    "        t += dt\n",
    "\n",
    "        # compute solution\n",
    "        solve(a == L, u, bc)\n",
    "\n",
    "        # plot solution at nip-step intervals\n",
    "        if n % nip == 0:\n",
    "            yield plot(u)\n",
    "\n",
    "        # update previous solution\n",
    "        u_n.assign(u)"
   ]
  },
  {
   "cell_type": "code",
   "execution_count": null,
   "metadata": {},
   "outputs": [],
   "source": [
    "# multiplot_from_generator(evolve(), 5, (15, 3))\n",
    "multiplot_from_generator(evolve(), 5)"
   ]
  },
  {
   "cell_type": "code",
   "execution_count": null,
   "metadata": {},
   "outputs": [],
   "source": [
    "mesh"
   ]
  },
  {
   "cell_type": "code",
   "execution_count": null,
   "metadata": {},
   "outputs": [],
   "source": [
    "# define initial condition\n",
    "#u_n = interpolate(u_0, V)\n",
    "\n",
    "# time-stepping\n",
    "u = Function(V)\n",
    "t = 0\n",
    "for n in range(num_steps):\n",
    "\n",
    "    # compute solution\n",
    "    solve(a == L, u, bc)\n",
    "    \n",
    "    # plot solution and save to file\n",
    "    plot(u)\n",
    "    plt.savefig('heat_2D_sqr/' + 'u_plot_' + str(n) + '.png')\n",
    "\n",
    "    # update current time and solution\n",
    "    t += dt\n",
    "    u_n.assign(u)"
   ]
  },
  {
   "cell_type": "code",
   "execution_count": null,
   "metadata": {},
   "outputs": [],
   "source": [
    "xvals = mesh.coordinates()[:,0]\n",
    "yvals = mesh.coordinates()[:,1]\n",
    "uvals = u.compute_vertex_values()"
   ]
  },
  {
   "cell_type": "code",
   "execution_count": null,
   "metadata": {},
   "outputs": [],
   "source": [
    "plt.pcolormesh(xvals, yvals, uvals, cmap=plt.cm.viridis)"
   ]
  },
  {
   "cell_type": "code",
   "execution_count": null,
   "metadata": {},
   "outputs": [],
   "source": [
    "plt.pcolormesh?"
   ]
  },
  {
   "cell_type": "code",
   "execution_count": null,
   "metadata": {},
   "outputs": [],
   "source": []
  }
 ],
 "metadata": {
  "kernelspec": {
   "display_name": "Python 3",
   "language": "python",
   "name": "python3"
  },
  "language_info": {
   "codemirror_mode": {
    "name": "ipython",
    "version": 3
   },
   "file_extension": ".py",
   "mimetype": "text/x-python",
   "name": "python",
   "nbconvert_exporter": "python",
   "pygments_lexer": "ipython3",
   "version": "3.7.2"
  }
 },
 "nbformat": 4,
 "nbformat_minor": 4
}
